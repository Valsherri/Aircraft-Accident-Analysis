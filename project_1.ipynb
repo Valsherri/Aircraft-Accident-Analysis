{
 "cells": [
  {
   "cell_type": "markdown",
   "id": "c611f092-6bff-4087-ad56-b0f2d964f3ae",
   "metadata": {},
   "source": [
    "1. Business Understanding."
   ]
  },
  {
   "cell_type": "code",
   "execution_count": null,
   "id": "3f2a5936-e60c-4fb1-8c5e-2fbf69fe9b3e",
   "metadata": {},
   "outputs": [],
   "source": [
    "# Import Libraries\n",
    "import pandas pd "
   ]
  },
  {
   "cell_type": "code",
   "execution_count": null,
   "id": "e11d5d0e-a4b4-4f8d-af3c-ab10b3d4e259",
   "metadata": {},
   "outputs": [],
   "source": [
    "pd = df.read"
   ]
  },
  {
   "cell_type": "code",
   "execution_count": null,
   "id": "69d9c2e7-5727-414c-858d-6d044768c810",
   "metadata": {},
   "outputs": [],
   "source": [
    "df.head"
   ]
  },
  {
   "cell_type": "code",
   "execution_count": null,
   "id": "a7e997f2-5443-435e-9ffc-d442c1f48707",
   "metadata": {},
   "outputs": [],
   "source": []
  }
 ],
 "metadata": {
  "kernelspec": {
   "display_name": "learn-env",
   "language": "python",
   "name": "learn-env"
  },
  "language_info": {
   "name": ""
  }
 },
 "nbformat": 4,
 "nbformat_minor": 5
}
